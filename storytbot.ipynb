{
 "cells": [
  {
   "cell_type": "code",
   "execution_count": 1,
   "metadata": {},
   "outputs": [],
   "source": [
    "from dotenv import load_dotenv\n",
    "from openai import OpenAI\n",
    "import os"
   ]
  },
  {
   "cell_type": "code",
   "execution_count": 2,
   "metadata": {},
   "outputs": [],
   "source": [
    "load_dotenv()\n",
    "os.environ['OPENAI_API_KEY'] = os.getenv('OPENAI_API_KEY')\n",
    "\n",
    "client = OpenAI()\n",
    "\n",
    "client.api_key = os.environ['OPENAI_API_KEY']"
   ]
  },
  {
   "cell_type": "code",
   "execution_count": 5,
   "metadata": {},
   "outputs": [],
   "source": [
    "def chatbot(question):\n",
    "    try:\n",
    "        \n",
    "\n",
    "        completion = client.chat.completions.create(\n",
    "        model='gpt-4o-mini',\n",
    "        store=True,\n",
    "        messages=[\n",
    "            {\"role\": \"system\", \"content\":\"You are a helpful storytelling assistant that ensures childerens storys. finish-finalize the story in the end.Always ensure that the story has a proper beginning, middle, and a finalized ending.\"},\n",
    "            {\"role\":\"user\", \"content\": question}\n",
    "        ],\n",
    "        max_tokens = 800,\n",
    "        temperature= 0.8,\n",
    "\n",
    "        )\n",
    "\n",
    "    except Exception as e:\n",
    "        print(f\"An unexpected error occurred: {e}\")\n",
    "        return None\n",
    "    except openai.error.InvalidRequestError as e:\n",
    "        print(f\"Invalid request: {e}\")\n",
    "        return None\n",
    "    except openai.error.AuthenticationError as e:\n",
    "        print(f\"Authentication error: {e}\")\n",
    "        return None             \n",
    "    except openai.error.APIConnectionError as e:\n",
    "        print(f\"API connection error: {e}\")\n",
    "        return None\n",
    "    except openai.error.RateLimitError as e:\n",
    "        print(f\"Rate limit error: {e}\")\n",
    "        return None\n",
    "    except openai.error.ServiceUnavailableError as e:\n",
    "        print(f\"Service unavailable: {e}\")\n",
    "        return None\n",
    "\n",
    "\n",
    "    story=completion.choices[0].message.content\n",
    "    return story\n",
    "\n"
   ]
  },
  {
   "cell_type": "code",
   "execution_count": 6,
   "metadata": {},
   "outputs": [
    {
     "name": "stdout",
     "output_type": "stream",
     "text": [
      "Hi, I'm your storytelling assistant. How can I help you?! Type 'exit' to quit.\n",
      "story:  **Title: A Day of Adventure at Sunny Park**\n",
      "\n",
      "**Beginning:**\n",
      "Once upon a time, on a warm, sunny morning in a bustling little town, a group of cheerful children gathered at Sunny Park. The park was their favorite place, filled with tall, swaying trees, colorful flowers, and the sound of laughter echoing through the air. The children, Mia, Leo, Sam, and Ava, were all excited about the adventures that awaited them that day.\n",
      "\n",
      "As they entered the park, Mia spotted the towering slide and shouted, \"Let's race to the slide!\" Without a second thought, the children dashed toward it, their feet pounding on the soft grass. The slide shimmered in the sunlight, inviting them to climb higher and higher.\n",
      "\n",
      "**Middle:**\n",
      "After a few thrilling rides down the slide, they decided to explore the park further. Sam suggested, \"Let’s go to the big oak tree! I heard there’s a secret hideout there!\" Intrigued, the children agreed, their imaginations running wild with the idea of a secret place.\n",
      "\n",
      "When they reached the grand oak tree, they discovered a small hollow at its base. \"It looks like a perfect hideout!\" exclaimed Ava. The kids squeezed into the hollow, giggling as they pretended it was their secret club. They named it the \"Adventure Club\" and promised to meet there every week.\n",
      "\n",
      "Suddenly, Leo said, \"Let’s have a treasure hunt!\" The children eagerly nodded, and Leo began to scribble clues on pieces of paper. They scattered around the park, hiding treasure (which was actually their favorite toys) while leaving clues for each other. Laughter and excitement filled the air as they raced from one spot to another, deciphering clues and searching for hidden treasures.\n",
      "\n",
      "**Ending:**\n",
      "After a fun-filled afternoon, the sun began to set, painting the sky with beautiful shades of orange and pink. The children gathered back at the oak tree, tired but happy. They sat in a circle, sharing their treasures and recounting the best moments of their day.\n",
      "\n",
      "Mia smiled and said, \"Today was the best adventure ever!\" Everyone agreed, their faces glowing with joy. As the first stars twinkled in the sky, they made a promise to return to Sunny Park the following week for more fun and adventures.\n",
      "\n",
      "With hearts full of happiness and laughter echoing in their minds, the children waved goodbye and headed home, dreaming of the next exciting day at the park.\n",
      "\n",
      "And so, the adventures at Sunny Park continued, one day at a time, filled with laughter, friendship, and endless exploration.\n",
      "\n",
      "**The End.**\n",
      "Goodbye!\n"
     ]
    }
   ],
   "source": [
    "if __name__ == '__main__':\n",
    "    print(\"Hi, I'm your storytelling assistant. How can I help you?! Type 'exit' to quit.\")\n",
    "\n",
    "    while True:\n",
    "        question = input(\"\\nWhat story would like to hear? : \")\n",
    "\n",
    "        if question.lower() in ['exit', 'quit']:\n",
    "            print(\"Goodbye!\")\n",
    "            break\n",
    "\n",
    "        if not question.lower():\n",
    "            print(\"Enter a valid question.\")\n",
    "            continue\n",
    "        if question.lower() == 'hi':\n",
    "            print(\"Hello! How can I assist you today?\")\n",
    "            continue\n",
    "        if question.lower() == 'help':\n",
    "            print(\"I can help you with storytelling. Just ask me for a story!\")\n",
    "            continue\n",
    "        if question.lower() == 'tell me a story':\n",
    "            print(\"Sure! What kind of story would you like to hear?\")\n",
    "            continue\n",
    "        \n",
    "\n",
    "        story=chatbot(question)\n",
    "        print(\"story: \", story)\n",
    "        if not story:\n",
    "            print(\"Sorry, I couldn't generate a story at this time.\")\n",
    "            continue            "
   ]
  }
 ],
 "metadata": {
  "kernelspec": {
   "display_name": "Python 3",
   "language": "python",
   "name": "python3"
  },
  "language_info": {
   "codemirror_mode": {
    "name": "ipython",
    "version": 3
   },
   "file_extension": ".py",
   "mimetype": "text/x-python",
   "name": "python",
   "nbconvert_exporter": "python",
   "pygments_lexer": "ipython3",
   "version": "3.12.9"
  }
 },
 "nbformat": 4,
 "nbformat_minor": 2
}
